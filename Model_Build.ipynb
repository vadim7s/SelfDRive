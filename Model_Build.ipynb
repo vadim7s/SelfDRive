{
 "cells": [
  {
   "cell_type": "code",
   "execution_count": 19,
   "id": "33990bf9",
   "metadata": {},
   "outputs": [],
   "source": [
    "'''\n",
    "This is to build a model which aligns the image of the camera with steering \n",
    "input to centre the car in the lane\n",
    "\n",
    "It requires images with relevant steering inputs already generated\n",
    "'''\n",
    "import keras\n",
    "import os\n",
    "import cv2\n",
    "\n",
    "from keras.models import Model, Sequential\n",
    "from keras.layers import Dense, Input, Dropout, MaxPooling2D, Conv2D, concatenate, Embedding, Reshape, Flatten, Activation\n",
    "from keras.optimizers import SGD\n",
    "import numpy as np\n",
    "\n",
    "#constants to resize image to\n",
    "HEIGHT = 360\n",
    "WIDTH = 640\n",
    "\n",
    "#get a lsit of files\n",
    "mypath = 'C:/SelfDrive/_out'\n",
    "only_images = [f.split('.')[0] for f in os.listdir(mypath) if f.endswith(\".png\")]\n",
    "only_steering = [f.split('.')[0] for f in os.listdir(mypath) if f.endswith(\".str\")]\n",
    "# get a list when both are available: image and steering\n",
    "complete_names = set(only_images).intersection(only_steering)\n",
    "\n",
    "# read training data \n",
    "\n",
    "X = [] #images\n",
    "Y = [] #expected steering for this image\n",
    "for example in complete_names:\n",
    "    img_path = mypath+'/'+example+'.png'\n",
    "    str_path = mypath+'/'+example+'.str'\n",
    "     \n",
    "    image = cv2.imread(img_path,cv2.IMREAD_GRAYSCALE)\n",
    "    # option to make images smaller\n",
    "    image = cv2.resize(image, (WIDTH,HEIGHT))\n",
    "    \n",
    "    X.append(image[:, :, None] / 255) # adding another dimension and normalising pixels to 0-1\n",
    "    # max value of Y during writing of this was 0.79 so no need to convert it to 0-1\n",
    "    \n",
    "    f = open(str_path,'r')\n",
    "    y = f.readline()\n",
    "    Y.append(float(y))\n",
    "\n",
    "X = np.array(X)\n",
    "Y = np.array(Y)"
   ]
  },
  {
   "cell_type": "code",
   "execution_count": null,
   "id": "287704ba",
   "metadata": {},
   "outputs": [],
   "source": []
  },
  {
   "cell_type": "code",
   "execution_count": 21,
   "id": "16a5113c",
   "metadata": {},
   "outputs": [
    {
     "name": "stdout",
     "output_type": "stream",
     "text": [
      "Model: \"sequential_2\"\n",
      "_________________________________________________________________\n",
      " Layer (type)                Output Shape              Param #   \n",
      "=================================================================\n",
      " conv2d_2 (Conv2D)           (None, 360, 640, 8)       80        \n",
      "                                                                 \n",
      " activation_6 (Activation)   (None, 360, 640, 8)       0         \n",
      "                                                                 \n",
      " max_pooling2d_2 (MaxPooling  (None, 180, 320, 8)      0         \n",
      " 2D)                                                             \n",
      "                                                                 \n",
      " flatten_2 (Flatten)         (None, 460800)            0         \n",
      "                                                                 \n",
      " dense_4 (Dense)             (None, 32)                14745632  \n",
      "                                                                 \n",
      " activation_7 (Activation)   (None, 32)                0         \n",
      "                                                                 \n",
      " dense_5 (Dense)             (None, 1)                 33        \n",
      "                                                                 \n",
      " activation_8 (Activation)   (None, 1)                 0         \n",
      "                                                                 \n",
      "=================================================================\n",
      "Total params: 14,745,745\n",
      "Trainable params: 14,745,745\n",
      "Non-trainable params: 0\n",
      "_________________________________________________________________\n",
      "Epoch 1/3\n",
      "277/277 [==============================] - 287s 1s/step - loss: 0.0257 - MSE: 0.0257 - val_loss: 0.0225 - val_MSE: 0.0225\n",
      "Epoch 2/3\n",
      "277/277 [==============================] - 266s 962ms/step - loss: 0.0235 - MSE: 0.0235 - val_loss: 0.0225 - val_MSE: 0.0225\n",
      "Epoch 3/3\n",
      "277/277 [==============================] - 268s 967ms/step - loss: 0.0235 - MSE: 0.0235 - val_loss: 0.0225 - val_MSE: 0.0225\n"
     ]
    },
    {
     "data": {
      "text/plain": [
       "<keras.callbacks.History at 0x1f7177483c8>"
      ]
     },
     "execution_count": 21,
     "metadata": {},
     "output_type": "execute_result"
    }
   ],
   "source": [
    "model = Sequential()\n",
    "model.add(Conv2D(8, (3, 3), activation='relu', kernel_initializer='he_uniform', padding='same', input_shape=(HEIGHT, WIDTH,1)))\n",
    "model.add(Activation('relu'))\n",
    "model.add(MaxPooling2D((2, 2)))\n",
    "model.add(Flatten())  # this converts our 3D feature maps to 1D feature vectors\n",
    "model.add(Dense(32))\n",
    "model.add(Activation('relu'))\n",
    "\n",
    "model.add(Dense(1))\n",
    "model.add(Activation('sigmoid'))\n",
    "\n",
    "model.summary()\n",
    "\n",
    "model.compile(loss='mean_squared_error',\n",
    "              optimizer='adam',\n",
    "              metrics=['MSE'])\n",
    "\n",
    "\n",
    "model.fit(X, Y, batch_size=32, epochs=3, validation_split=0.3)\n"
   ]
  },
  {
   "cell_type": "code",
   "execution_count": null,
   "id": "628127d7",
   "metadata": {},
   "outputs": [],
   "source": [
    "# need to get to 0.002 and below to be within 5% ish"
   ]
  },
  {
   "cell_type": "code",
   "execution_count": 1,
   "id": "6d55f0d0",
   "metadata": {},
   "outputs": [],
   "source": [
    "'''\n",
    "next iteration:\n",
    "\n",
    "deal with activation at the end to allow negative values - by re-scaling Y labels to center around 0.5\n",
    "\n",
    "focus on certain screen area\n",
    "\n",
    "'''\n",
    "import keras\n",
    "import os\n",
    "import cv2\n",
    "\n",
    "from keras.models import Model, Sequential\n",
    "from keras.layers import Dense, Input, Dropout, MaxPooling2D, Conv2D, concatenate, Embedding, Reshape, Flatten, Activation\n",
    "from keras.optimizers import SGD\n",
    "import numpy as np\n",
    "\n",
    "#constants to resize image to\n",
    "HEIGHT = 360\n",
    "WIDTH = 640\n",
    "\n",
    "HEIGHT_REQUIRED_PORTION = 0.4 #bottom share, e.g. 0.1 is take lowest 10% of rows\n",
    "WIDTH_REQUIRED_PORTION = 0.5\n",
    "\n",
    "height_from = int(HEIGHT * (1 -HEIGHT_REQUIRED_PORTION))\n",
    "width_from = int((WIDTH - WIDTH * WIDTH_REQUIRED_PORTION) / 2)\n",
    "width_to = width_from + int(WIDTH_REQUIRED_PORTION * WIDTH)\n",
    "\n",
    "#get a lsit of files\n",
    "mypath = 'C:/SelfDrive/_out'\n",
    "only_images = [f.split('.')[0] for f in os.listdir(mypath) if f.endswith(\".png\")]\n",
    "only_steering = [f.split('.')[0] for f in os.listdir(mypath) if f.endswith(\".str\")]\n",
    "# get a list when both are available: image and steering\n",
    "complete_names = set(only_images).intersection(only_steering)\n",
    "\n",
    "# read training data \n",
    "\n",
    "X = [] #images\n",
    "Y = [] #expected steering for this image\n",
    "for example in complete_names:\n",
    "    img_path = mypath+'/'+example+'.png'\n",
    "    str_path = mypath+'/'+example+'.str'\n",
    "     \n",
    "    image = cv2.imread(img_path,cv2.IMREAD_GRAYSCALE)\n",
    "    # option to make images smaller\n",
    "    image = cv2.resize(image, (WIDTH,HEIGHT))\n",
    "    # this version adds taking lower side of the image\n",
    "    image = image[height_from:,width_from:width_to]\n",
    "    \n",
    "    X.append(image[:, :, None] / 255) # adding another dimension and normalising pixels to 0-1\n",
    "    # max value of Y during writing of this was 0.79 so no need to convert it to 0-1\n",
    "    \n",
    "    f = open(str_path,'r')\n",
    "    y = f.readline()\n",
    "    Y.append(float(y))\n",
    "\n",
    "X = np.array(X)\n",
    "Y = np.array(Y)\n",
    "Y = Y/2 + 0.5 # transforming Y from [-1:+1] to [0:1]"
   ]
  },
  {
   "cell_type": "code",
   "execution_count": 3,
   "id": "394fff12",
   "metadata": {},
   "outputs": [
    {
     "name": "stdout",
     "output_type": "stream",
     "text": [
      "Model: \"sequential_1\"\n",
      "_________________________________________________________________\n",
      " Layer (type)                Output Shape              Param #   \n",
      "=================================================================\n",
      " conv2d_3 (Conv2D)           (None, 144, 320, 64)      640       \n",
      "                                                                 \n",
      " activation_5 (Activation)   (None, 144, 320, 64)      0         \n",
      "                                                                 \n",
      " max_pooling2d_3 (MaxPooling  (None, 72, 160, 64)      0         \n",
      " 2D)                                                             \n",
      "                                                                 \n",
      " conv2d_4 (Conv2D)           (None, 72, 160, 64)       36928     \n",
      "                                                                 \n",
      " activation_6 (Activation)   (None, 72, 160, 64)       0         \n",
      "                                                                 \n",
      " max_pooling2d_4 (MaxPooling  (None, 36, 80, 64)       0         \n",
      " 2D)                                                             \n",
      "                                                                 \n",
      " conv2d_5 (Conv2D)           (None, 36, 80, 64)        36928     \n",
      "                                                                 \n",
      " activation_7 (Activation)   (None, 36, 80, 64)        0         \n",
      "                                                                 \n",
      " max_pooling2d_5 (MaxPooling  (None, 18, 40, 64)       0         \n",
      " 2D)                                                             \n",
      "                                                                 \n",
      " flatten_1 (Flatten)         (None, 46080)             0         \n",
      "                                                                 \n",
      " dense_2 (Dense)             (None, 32)                1474592   \n",
      "                                                                 \n",
      " activation_8 (Activation)   (None, 32)                0         \n",
      "                                                                 \n",
      " dense_3 (Dense)             (None, 1)                 33        \n",
      "                                                                 \n",
      " activation_9 (Activation)   (None, 1)                 0         \n",
      "                                                                 \n",
      "=================================================================\n",
      "Total params: 1,549,121\n",
      "Trainable params: 1,549,121\n",
      "Non-trainable params: 0\n",
      "_________________________________________________________________\n",
      "Epoch 1/5\n",
      "316/316 [==============================] - 25s 76ms/step - loss: 0.0060 - MSE: 0.0060 - val_loss: 0.0057 - val_MSE: 0.0057\n",
      "Epoch 2/5\n",
      "316/316 [==============================] - 23s 74ms/step - loss: 0.0058 - MSE: 0.0058 - val_loss: 0.0057 - val_MSE: 0.0057\n",
      "Epoch 3/5\n",
      "316/316 [==============================] - 23s 74ms/step - loss: 0.0058 - MSE: 0.0058 - val_loss: 0.0057 - val_MSE: 0.0057\n",
      "Epoch 4/5\n",
      "316/316 [==============================] - 23s 74ms/step - loss: 0.0058 - MSE: 0.0058 - val_loss: 0.0057 - val_MSE: 0.0057\n",
      "Epoch 5/5\n",
      "316/316 [==============================] - 24s 75ms/step - loss: 0.0058 - MSE: 0.0058 - val_loss: 0.0057 - val_MSE: 0.0057\n"
     ]
    },
    {
     "data": {
      "text/plain": [
       "<keras.callbacks.History at 0x26ad6466948>"
      ]
     },
     "execution_count": 3,
     "metadata": {},
     "output_type": "execute_result"
    }
   ],
   "source": [
    "#initial model giving good results - needs to be checked against a real driving scenario\n",
    "model = Sequential()\n",
    "model.add(Conv2D(64, (3, 3), activation='relu', padding='same', input_shape=X.shape[1:]))\n",
    "model.add(Activation('relu'))\n",
    "model.add(MaxPooling2D((2, 2)))\n",
    "model.add(Conv2D(64, (3, 3), activation='relu', padding='same'))\n",
    "model.add(Activation('relu'))\n",
    "model.add(MaxPooling2D((2, 2)))\n",
    "model.add(Conv2D(64, (3, 3), activation='relu', padding='same'))\n",
    "model.add(Activation('relu'))\n",
    "model.add(MaxPooling2D((2, 2)))\n",
    "model.add(Flatten())  \n",
    "model.add(Dense(32))\n",
    "model.add(Activation('relu'))\n",
    "\n",
    "model.add(Dense(1))\n",
    "model.add(Activation('sigmoid'))\n",
    "\n",
    "model.summary()\n",
    "\n",
    "model.compile(loss='mean_squared_error',\n",
    "              optimizer='adam',\n",
    "              metrics=['MSE'])\n",
    "\n",
    "\n",
    "model.fit(X, Y, batch_size=32, epochs=5, validation_split=0.2)"
   ]
  },
  {
   "cell_type": "code",
   "execution_count": 2,
   "id": "2db46730",
   "metadata": {},
   "outputs": [
    {
     "name": "stdout",
     "output_type": "stream",
     "text": [
      "Model: \"sequential\"\n",
      "_________________________________________________________________\n",
      " Layer (type)                Output Shape              Param #   \n",
      "=================================================================\n",
      " conv2d (Conv2D)             (None, 144, 320, 64)      640       \n",
      "                                                                 \n",
      " activation (Activation)     (None, 144, 320, 64)      0         \n",
      "                                                                 \n",
      " max_pooling2d (MaxPooling2D  (None, 72, 160, 64)      0         \n",
      " )                                                               \n",
      "                                                                 \n",
      " conv2d_1 (Conv2D)           (None, 72, 160, 64)       36928     \n",
      "                                                                 \n",
      " activation_1 (Activation)   (None, 72, 160, 64)       0         \n",
      "                                                                 \n",
      " max_pooling2d_1 (MaxPooling  (None, 36, 80, 64)       0         \n",
      " 2D)                                                             \n",
      "                                                                 \n",
      " conv2d_2 (Conv2D)           (None, 36, 80, 64)        36928     \n",
      "                                                                 \n",
      " activation_2 (Activation)   (None, 36, 80, 64)        0         \n",
      "                                                                 \n",
      " max_pooling2d_2 (MaxPooling  (None, 18, 40, 64)       0         \n",
      " 2D)                                                             \n",
      "                                                                 \n",
      " conv2d_3 (Conv2D)           (None, 18, 40, 64)        36928     \n",
      "                                                                 \n",
      " activation_3 (Activation)   (None, 18, 40, 64)        0         \n",
      "                                                                 \n",
      " max_pooling2d_3 (MaxPooling  (None, 9, 20, 64)        0         \n",
      " 2D)                                                             \n",
      "                                                                 \n",
      " flatten (Flatten)           (None, 11520)             0         \n",
      "                                                                 \n",
      " dense (Dense)               (None, 32)                368672    \n",
      "                                                                 \n",
      " activation_4 (Activation)   (None, 32)                0         \n",
      "                                                                 \n",
      " dense_1 (Dense)             (None, 1)                 33        \n",
      "                                                                 \n",
      " activation_5 (Activation)   (None, 1)                 0         \n",
      "                                                                 \n",
      "=================================================================\n",
      "Total params: 480,129\n",
      "Trainable params: 480,129\n",
      "Non-trainable params: 0\n",
      "_________________________________________________________________\n",
      "Epoch 1/3\n",
      "316/316 [==============================] - 547s 2s/step - loss: 0.0059 - MSE: 0.0059 - val_loss: 0.0055 - val_MSE: 0.0055\n",
      "Epoch 2/3\n",
      "316/316 [==============================] - 538s 2s/step - loss: 0.0058 - MSE: 0.0058 - val_loss: 0.0055 - val_MSE: 0.0055\n",
      "Epoch 3/3\n",
      "316/316 [==============================] - 538s 2s/step - loss: 0.0058 - MSE: 0.0058 - val_loss: 0.0055 - val_MSE: 0.0055\n"
     ]
    },
    {
     "data": {
      "text/plain": [
       "<keras.callbacks.History at 0x29cb8d01d08>"
      ]
     },
     "execution_count": 2,
     "metadata": {},
     "output_type": "execute_result"
    }
   ],
   "source": [
    "#adding an extra layer - no difference - not saved\n",
    "model = Sequential()\n",
    "model.add(Conv2D(64, (3, 3), activation='relu', padding='same', input_shape=X.shape[1:]))\n",
    "model.add(Activation('relu'))\n",
    "model.add(MaxPooling2D((2, 2)))\n",
    "model.add(Conv2D(64, (3, 3), activation='relu', padding='same'))\n",
    "model.add(Activation('relu'))\n",
    "model.add(MaxPooling2D((2, 2)))\n",
    "model.add(Conv2D(64, (3, 3), activation='relu', padding='same'))\n",
    "model.add(Activation('relu'))\n",
    "model.add(MaxPooling2D((2, 2)))\n",
    "model.add(Conv2D(64, (3, 3), activation='relu', padding='same'))\n",
    "model.add(Activation('relu'))\n",
    "model.add(MaxPooling2D((2, 2)))\n",
    "model.add(Flatten())  \n",
    "model.add(Dense(32))\n",
    "model.add(Activation('relu'))\n",
    "\n",
    "model.add(Dense(1))\n",
    "model.add(Activation('sigmoid'))\n",
    "\n",
    "model.summary()\n",
    "\n",
    "model.compile(loss='mean_squared_error',\n",
    "              optimizer='adam',\n",
    "              metrics=['MSE'])\n",
    "\n",
    "\n",
    "model.fit(X, Y, batch_size=32, epochs=3, validation_split=0.2)"
   ]
  },
  {
   "cell_type": "code",
   "execution_count": 8,
   "id": "d2323b72",
   "metadata": {},
   "outputs": [
    {
     "data": {
      "text/plain": [
       "-1"
      ]
     },
     "execution_count": 8,
     "metadata": {},
     "output_type": "execute_result"
    }
   ],
   "source": [
    "cv2.imshow(\"image\", image)\n",
    "cv2.waitKey(0)"
   ]
  },
  {
   "cell_type": "code",
   "execution_count": 4,
   "id": "3eb7513b",
   "metadata": {},
   "outputs": [
    {
     "name": "stderr",
     "output_type": "stream",
     "text": [
      "WARNING:absl:Found untraced functions such as _jit_compiled_convolution_op, _jit_compiled_convolution_op, _jit_compiled_convolution_op, _update_step_xla while saving (showing 4 of 4). These functions will not be directly callable after loading.\n"
     ]
    },
    {
     "name": "stdout",
     "output_type": "stream",
     "text": [
      "INFO:tensorflow:Assets written to: lane_model_360x640_04_05\\assets\n"
     ]
    },
    {
     "name": "stderr",
     "output_type": "stream",
     "text": [
      "INFO:tensorflow:Assets written to: lane_model_360x640_04_05\\assets\n"
     ]
    }
   ],
   "source": [
    "#saving model\n",
    "model.save(\"lane_model_360x640_04_05\", overwrite=False,include_optimizer=True,\n",
    "    save_format=None, signatures=None, options=None, save_traces=True)"
   ]
  },
  {
   "cell_type": "code",
   "execution_count": null,
   "id": "b0c8f386",
   "metadata": {},
   "outputs": [],
   "source": []
  },
  {
   "cell_type": "code",
   "execution_count": null,
   "id": "3a159e0b",
   "metadata": {},
   "outputs": [],
   "source": []
  },
  {
   "cell_type": "code",
   "execution_count": null,
   "id": "c5c5fe33",
   "metadata": {},
   "outputs": [],
   "source": []
  }
 ],
 "metadata": {
  "kernelspec": {
   "display_name": "sb3",
   "language": "python",
   "name": "python3"
  },
  "language_info": {
   "codemirror_mode": {
    "name": "ipython",
    "version": 3
   },
   "file_extension": ".py",
   "mimetype": "text/x-python",
   "name": "python",
   "nbconvert_exporter": "python",
   "pygments_lexer": "ipython3",
   "version": "3.7.15"
  },
  "vscode": {
   "interpreter": {
    "hash": "d124ef12d4d9de16670d96f8763f4c60b32c2efbe4ec6e37065242d005502905"
   }
  }
 },
 "nbformat": 4,
 "nbformat_minor": 5
}
