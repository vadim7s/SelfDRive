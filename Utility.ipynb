{
 "cells": [
  {
   "cell_type": "code",
   "execution_count": 2,
   "id": "24102b38",
   "metadata": {},
   "outputs": [
    {
     "data": {
      "text/plain": [
       "<carla.libcarla.World at 0x2527b07c2d0>"
      ]
     },
     "execution_count": 2,
     "metadata": {},
     "output_type": "execute_result"
    }
   ],
   "source": [
    "import carla\n",
    "client = carla.Client('localhost', 2000)\n",
    "client.load_world('Town05') #This may give an error \"RuntimeError: time-out of 5000ms while w...\" - IGNORE"
   ]
  },
  {
   "cell_type": "code",
   "execution_count": 3,
   "id": "f785f66e",
   "metadata": {},
   "outputs": [],
   "source": [
    "#get world object and select preferred car\n",
    "world = client.get_world()\n",
    "vehicle_bp = world.get_blueprint_library().filter('*model3*')"
   ]
  },
  {
   "cell_type": "code",
   "execution_count": 10,
   "id": "9efb2404",
   "metadata": {},
   "outputs": [
    {
     "data": {
      "text/plain": [
       "1"
      ]
     },
     "execution_count": 10,
     "metadata": {},
     "output_type": "execute_result"
    }
   ],
   "source": [
    "#confirm only one car\n",
    "len(vehicle_bp)"
   ]
  },
  {
   "cell_type": "code",
   "execution_count": 3,
   "id": "1d0be462",
   "metadata": {},
   "outputs": [],
   "source": [
    "#get all highway spawn points for town 5\n",
    "import random\n",
    "good_roads = [12, 34, 35, 36, 37, 38, 1201, 1236, 2034, 2035, 2343, 2344]\n",
    "spawn_points = world.get_map().get_spawn_points()\n",
    "good_spawn_points = []\n",
    "for point in spawn_points:\n",
    "    this_waypoint = world.get_map().get_waypoint(point.location,project_to_road=True, lane_type=(carla.LaneType.Driving))\n",
    "    if this_waypoint.road_id in good_roads:\n",
    "        good_spawn_points.append(point)\n",
    "\n",
    "transform = random.choice(good_spawn_points)"
   ]
  },
  {
   "cell_type": "code",
   "execution_count": 19,
   "id": "c83fcd56",
   "metadata": {},
   "outputs": [
    {
     "name": "stdout",
     "output_type": "stream",
     "text": [
      "Transform(Location(x=7.056836, y=-207.482941, z=0.300000), Rotation(pitch=0.767256, yaw=179.757080, roll=0.000000))\n"
     ]
    }
   ],
   "source": [
    "print(transform) # location of spawning point"
   ]
  },
  {
   "cell_type": "code",
   "execution_count": 4,
   "id": "2f4db3e1",
   "metadata": {},
   "outputs": [],
   "source": [
    "#spawn the car\n",
    "vehicle = world.try_spawn_actor(vehicle_bp[0], transform)"
   ]
  },
  {
   "cell_type": "code",
   "execution_count": 5,
   "id": "2f6091ef",
   "metadata": {},
   "outputs": [
    {
     "name": "stdout",
     "output_type": "stream",
     "text": [
      "Transform(Location(x=69.430626, y=-186.747208, z=0.001650), Rotation(pitch=0.000000, yaw=-0.242950, roll=0.000000))\n"
     ]
    }
   ],
   "source": [
    "print(vehicle.get_transform()) "
   ]
  },
  {
   "cell_type": "code",
   "execution_count": 24,
   "id": "770f0c57",
   "metadata": {},
   "outputs": [
    {
     "name": "stdout",
     "output_type": "stream",
     "text": [
      "Vector3D(x=0.999928, y=-0.004226, z=-0.011186)\n"
     ]
    }
   ],
   "source": [
    "#example of getting straight direction - values low, likely due to the car being straight\n",
    "print(vehicle.get_transform().get_forward_vector())"
   ]
  },
  {
   "cell_type": "code",
   "execution_count": 55,
   "id": "21e21ac9",
   "metadata": {},
   "outputs": [],
   "source": [
    "#spin the car a little - 30 degrees right\n",
    "trans = vehicle.get_transform()\n",
    "trans.rotation.yaw = trans.rotation.yaw + 30\n",
    "vehicle.set_transform(trans)"
   ]
  },
  {
   "cell_type": "code",
   "execution_count": 26,
   "id": "a68d71e8",
   "metadata": {},
   "outputs": [
    {
     "name": "stdout",
     "output_type": "stream",
     "text": [
      "Vector3D(x=0.868084, y=0.496311, z=-0.010304)\n"
     ]
    }
   ],
   "source": [
    "# now get straight vector after spinning 30 degrees right - strangely both x & y changed and none by 30 degree\n",
    "print(vehicle.get_transform().get_forward_vector())"
   ]
  },
  {
   "cell_type": "code",
   "execution_count": 34,
   "id": "188e0914",
   "metadata": {},
   "outputs": [
    {
     "name": "stdout",
     "output_type": "stream",
     "text": [
      "\n",
      "Result... 37.24749732679996\n"
     ]
    }
   ],
   "source": [
    "import numpy as np\n",
    "import math\n",
    "print(\"\\nResult...\",math.degrees(np.arctanh(0.496311/0.868084)))"
   ]
  },
  {
   "cell_type": "code",
   "execution_count": 35,
   "id": "6ea86eef",
   "metadata": {},
   "outputs": [],
   "source": [
    "#spin the car back - 30 degrees\n",
    "trans = vehicle.get_transform()\n",
    "trans.rotation.yaw = trans.rotation.yaw - 30\n",
    "vehicle.set_transform(trans)"
   ]
  },
  {
   "cell_type": "code",
   "execution_count": 36,
   "id": "88c7f1f2",
   "metadata": {},
   "outputs": [
    {
     "name": "stdout",
     "output_type": "stream",
     "text": [
      "Vector3D(x=0.999930, y=-0.004226, z=-0.011083)\n"
     ]
    }
   ],
   "source": [
    "print(vehicle.get_transform().get_forward_vector())"
   ]
  },
  {
   "cell_type": "code",
   "execution_count": 37,
   "id": "9e1507eb",
   "metadata": {},
   "outputs": [],
   "source": [
    "#spin the car 90 degrees right\n",
    "trans = vehicle.get_transform()\n",
    "trans.rotation.yaw = trans.rotation.yaw + 90\n",
    "vehicle.set_transform(trans)"
   ]
  },
  {
   "cell_type": "code",
   "execution_count": 38,
   "id": "572b721d",
   "metadata": {},
   "outputs": [
    {
     "name": "stdout",
     "output_type": "stream",
     "text": [
      "Vector3D(x=0.004302, y=0.999991, z=-0.000274)\n"
     ]
    }
   ],
   "source": [
    "print(vehicle.get_transform().get_forward_vector())"
   ]
  },
  {
   "cell_type": "code",
   "execution_count": 43,
   "id": "ba313366",
   "metadata": {},
   "outputs": [
    {
     "data": {
      "text/plain": [
       "32.738312585431636"
      ]
     },
     "execution_count": 43,
     "metadata": {},
     "output_type": "execute_result"
    }
   ],
   "source": [
    "0.496311/(0.868084+0.496311) * 90"
   ]
  },
  {
   "cell_type": "code",
   "execution_count": 44,
   "id": "ee67ae7e",
   "metadata": {},
   "outputs": [],
   "source": [
    "#spin the car straight\n",
    "trans = vehicle.get_transform()\n",
    "trans.rotation.yaw = trans.rotation.yaw - 90\n",
    "vehicle.set_transform(trans)"
   ]
  },
  {
   "cell_type": "code",
   "execution_count": null,
   "id": "cbc677fc",
   "metadata": {},
   "outputs": [],
   "source": []
  },
  {
   "cell_type": "code",
   "execution_count": 46,
   "id": "ec14d4ad",
   "metadata": {},
   "outputs": [
    {
     "name": "stdout",
     "output_type": "stream",
     "text": [
      "Vector3D(x=0.710117, y=0.704029, z=-0.008788)\n"
     ]
    }
   ],
   "source": []
  },
  {
   "cell_type": "code",
   "execution_count": 49,
   "id": "f62f5332",
   "metadata": {},
   "outputs": [
    {
     "data": {
      "text/plain": [
       "32.666666666666664"
      ]
     },
     "execution_count": 49,
     "metadata": {},
     "output_type": "execute_result"
    }
   ],
   "source": [
    "0.49/(0.86+0.49) * 90\n"
   ]
  },
  {
   "cell_type": "code",
   "execution_count": 58,
   "id": "d705ee07",
   "metadata": {},
   "outputs": [
    {
     "name": "stdout",
     "output_type": "stream",
     "text": [
      "Rough angle: 0.36371525400034294\n"
     ]
    }
   ],
   "source": [
    "vector = vehicle.get_transform().get_forward_vector()\n",
    "x = vector.x\n",
    "y = vector.y\n",
    "print(\"Rough angle:\", y/(x+y))"
   ]
  },
  {
   "cell_type": "code",
   "execution_count": 59,
   "id": "f594b96a",
   "metadata": {},
   "outputs": [],
   "source": [
    "#spin the car back - 30 degrees\n",
    "trans = vehicle.get_transform()\n",
    "trans.rotation.yaw = trans.rotation.yaw - 30\n",
    "vehicle.set_transform(trans)"
   ]
  },
  {
   "cell_type": "code",
   "execution_count": 60,
   "id": "0dc2cd77",
   "metadata": {},
   "outputs": [
    {
     "name": "stdout",
     "output_type": "stream",
     "text": [
      "Rough angle: -0.004325520234127645\n"
     ]
    }
   ],
   "source": [
    "vector = vehicle.get_transform().get_forward_vector()\n",
    "x = vector.x\n",
    "y = vector.y\n",
    "print(\"Rough angle:\", y/(x+y))"
   ]
  },
  {
   "cell_type": "code",
   "execution_count": 61,
   "id": "cfe33198",
   "metadata": {},
   "outputs": [],
   "source": [
    "#spin the car back - 30 degrees\n",
    "trans = vehicle.get_transform()\n",
    "trans.rotation.yaw = trans.rotation.yaw - 30\n",
    "vehicle.set_transform(trans)"
   ]
  },
  {
   "cell_type": "code",
   "execution_count": 67,
   "id": "74adfb70",
   "metadata": {},
   "outputs": [
    {
     "name": "stdout",
     "output_type": "stream",
     "text": [
      "Rough angle: -0.3683309051529466\n"
     ]
    }
   ],
   "source": [
    "vector = vehicle.get_transform().get_forward_vector()\n",
    "x = vector.x\n",
    "y = vector.y\n",
    "print(\"Rough angle:\", y/(abs(x)+abs(y)))"
   ]
  },
  {
   "cell_type": "code",
   "execution_count": 64,
   "id": "8d9c7892",
   "metadata": {},
   "outputs": [
    {
     "data": {
      "text/plain": [
       "-0.5036982893943787"
      ]
     },
     "execution_count": 64,
     "metadata": {},
     "output_type": "execute_result"
    }
   ],
   "source": [
    "y"
   ]
  },
  {
   "cell_type": "code",
   "execution_count": 65,
   "id": "aad363f4",
   "metadata": {},
   "outputs": [
    {
     "name": "stdout",
     "output_type": "stream",
     "text": [
      "Vector3D(x=0.863817, y=-0.503698, z=-0.010367)\n"
     ]
    }
   ],
   "source": [
    "print(vehicle.get_transform().get_forward_vector())"
   ]
  },
  {
   "cell_type": "code",
   "execution_count": 10,
   "id": "13a55456",
   "metadata": {},
   "outputs": [],
   "source": [
    "vehicle.set_autopilot(True)\n"
   ]
  },
  {
   "cell_type": "code",
   "execution_count": 11,
   "id": "c6cc31e7",
   "metadata": {},
   "outputs": [],
   "source": [
    "vehicle.set_autopilot(False)"
   ]
  },
  {
   "cell_type": "code",
   "execution_count": 12,
   "id": "4d9953db",
   "metadata": {},
   "outputs": [
    {
     "data": {
      "text/plain": [
       "True"
      ]
     },
     "execution_count": 12,
     "metadata": {},
     "output_type": "execute_result"
    }
   ],
   "source": [
    "vehicle.destroy()"
   ]
  },
  {
   "cell_type": "code",
   "execution_count": 5,
   "id": "3f93610d",
   "metadata": {},
   "outputs": [],
   "source": [
    "current_waypoint = world.get_map().get_waypoint(vehicle.get_location(),project_to_road=True, lane_type=(carla.LaneType.Driving | carla.LaneType.Sidewalk))"
   ]
  },
  {
   "cell_type": "code",
   "execution_count": 8,
   "id": "7ed46ae2",
   "metadata": {},
   "outputs": [
    {
     "name": "stdout",
     "output_type": "stream",
     "text": [
      "360.0000304877758\n"
     ]
    }
   ],
   "source": [
    "print(current_waypoint.transform.rotation.yaw - vehicle.get_transform().rotation.yaw)"
   ]
  },
  {
   "cell_type": "code",
   "execution_count": 7,
   "id": "d16f6fbb",
   "metadata": {},
   "outputs": [
    {
     "name": "stdout",
     "output_type": "stream",
     "text": [
      "-0.2429504096508026\n"
     ]
    }
   ],
   "source": [
    "print(vehicle.get_transform().rotation.yaw)"
   ]
  },
  {
   "cell_type": "code",
   "execution_count": 5,
   "id": "78572a67",
   "metadata": {},
   "outputs": [],
   "source": [
    "# trying to get all waypoints\n",
    "# good road_ids\n",
    "good_roads = [12, 34, 35, 36, 37, 38, 1201, 1236, 2034, 2035, 2343, 2344]\n",
    "town_map = world.get_map()\n",
    "all_waypoint_pairs = town_map.get_topology()\n",
    "# subset of lane start/end's which belong to good roads\n",
    "good_lanes = []\n",
    "for w in all_waypoint_pairs:\n",
    "    if w[0].road_id in good_roads:\n",
    "        good_lanes.append(w)\n",
    "        "
   ]
  },
  {
   "cell_type": "code",
   "execution_count": 11,
   "id": "b457d64d",
   "metadata": {},
   "outputs": [],
   "source": [
    "# loop through selected lanes - trace each lane\n",
    "# this is using the spectator\n",
    "import time\n",
    "spectator = world.get_spectator()\n",
    "for lane in good_lanes:\n",
    "    #set start and end of the lane\n",
    "    for wp in lane[0].next_until_lane_end(10):\n",
    "        transform = wp.transform\n",
    "        #lift above the road by 1m\n",
    "        transform.location.z = transform.location.z+1\n",
    "        spectator.set_transform(transform)\n",
    "        time.sleep(0.01)\n",
    "        \n",
    "\n",
    "    \n",
    "\n"
   ]
  },
  {
   "cell_type": "code",
   "execution_count": 22,
   "id": "99d5472a",
   "metadata": {},
   "outputs": [
    {
     "name": "stdout",
     "output_type": "stream",
     "text": [
      "Waypoint(Transform(Location(x=19.325249, y=-193.534851, z=0.000000), Rotation(pitch=360.000000, yaw=359.757080, roll=0.000000)))\n"
     ]
    }
   ],
   "source": [
    "print(good_lanes[0][0])"
   ]
  },
  {
   "cell_type": "code",
   "execution_count": 8,
   "id": "8ca54b68",
   "metadata": {},
   "outputs": [],
   "source": [
    "\n",
    "    "
   ]
  },
  {
   "cell_type": "code",
   "execution_count": null,
   "id": "30a0c972",
   "metadata": {},
   "outputs": [],
   "source": []
  }
 ],
 "metadata": {
  "kernelspec": {
   "display_name": "Python 3 (ipykernel)",
   "language": "python",
   "name": "python3"
  },
  "language_info": {
   "codemirror_mode": {
    "name": "ipython",
    "version": 3
   },
   "file_extension": ".py",
   "mimetype": "text/x-python",
   "name": "python",
   "nbconvert_exporter": "python",
   "pygments_lexer": "ipython3",
   "version": "3.7.16"
  }
 },
 "nbformat": 4,
 "nbformat_minor": 5
}
